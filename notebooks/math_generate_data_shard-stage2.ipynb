{
 "cells": [
  {
   "cell_type": "code",
   "execution_count": 5,
   "metadata": {
    "ExecuteTime": {
     "end_time": "2023-06-21T19:10:19.756275Z",
     "start_time": "2023-06-21T19:10:19.751529Z"
    },
    "gather": {
     "logged": 1687315442943
    }
   },
   "outputs": [],
   "source": [
    "import os\n",
    "import re\n",
    "import pandas as pd\n",
    "import numpy as np\n",
    "import tqdm\n",
    "import openai"
   ]
  },
  {
   "cell_type": "code",
   "execution_count": 3,
   "metadata": {
    "gather": {
     "logged": 1687315445386
    },
    "jupyter": {
     "outputs_hidden": false,
     "source_hidden": false
    },
    "nteract": {
     "transient": {
      "deleting": false
     }
    }
   },
   "outputs": [],
   "source": [
    "openai.api_type = \"azure\"\n",
    "openai.api_base = \"\"\n",
    "openai.api_version = \"2023-03-15-preview\"\n",
    "openai.api_key = \"\"\n"
   ]
  },
  {
   "cell_type": "code",
   "execution_count": null,
   "metadata": {},
   "outputs": [],
   "source": [
    "stage = 'stage2'"
   ]
  },
  {
   "cell_type": "code",
   "execution_count": null,
   "metadata": {},
   "outputs": [],
   "source": [
    "ipfile = f'{stage}_train_processed_data.json'\n",
    "opfile = f'{stage}_with_adversarial_TRAIN.csv'\n",
    "\n",
    "opfolder = 'adversarial_simple'   # keep as is."
   ]
  },
  {
   "cell_type": "code",
   "execution_count": null,
   "metadata": {},
   "outputs": [],
   "source": [
    "os.system(f'mkdir {opfolder}')"
   ]
  },
  {
   "cell_type": "markdown",
   "metadata": {},
   "source": [
    "### simple prompt"
   ]
  },
  {
   "cell_type": "code",
   "execution_count": null,
   "metadata": {},
   "outputs": [],
   "source": [
    "def get_simple_prompt(prompt,prefix=None):\n",
    "\n",
    "    if(prefix is not None):\n",
    "        default = prefix\n",
    "    else:\n",
    "        default = '''Augment the passage as shown by adding one new variable. \n",
    "Rules:\n",
    "1. The new variable must change values over the course of the augmented passage.\n",
    "2. Old and new value of the new variable should be explicitly mentioned.\n",
    "3. The augmented passage should add numerical information regarding variables not 4. measured or derived from variables in the passage. \n",
    "4. The new variable must be one of the following types: [Volume, Humidity, Temperature, Weight, Luminosity, Density, Speed, Area]. \n",
    "5. The new variable type must not be present in the passage before augmentation.\n",
    "6. The new variable must not share the same physical unit as any of the original variables. \n",
    "7. The new variable must not be related to or derived from the existing variables in the passage.\n",
    "8. The augmented text should not add any numerical information about existing variables that is not already mentioned explicitly in the original passage.\n",
    "9. Add no more than one sentence.\n",
    "\n",
    "Example 1:\n",
    "Passage:  My car gets 20 miles per gallon.\n",
    "Existing Variables: Fuel efficiency\n",
    "Augmented: My car, which gets 20 miles for each gallon, when I drive at 120 miles per hour. I start going at 10 feet a minute. \n",
    "New Variables: Speed (changes from 120 to 10)\n",
    "\n",
    "Explanation: the new variable speed is added. It is independent of the Fuel efficiency variable in the original passage. Speed cannot be derived from the original passage. The units for speed are not related to the units for fuel efficiency. The augmented passage does not add any information about existing variables (fuel efficiency) at all, fulfilling Rule 8. \n",
    "\n",
    "Example 2:\n",
    "Passage:  There are 64 pigs in the barn. Some more came in, now there are 86 pigs.\n",
    "Existing Variables: Number of pigs (changes from 64 to 86)\n",
    "Augmented: In the barn, where the temperature is a cozy 72 degrees Fahrenheit, there are 64 pigs. Some more came in. The temperature goes up to 83 degrees fahrenheit for 86 pigs. \n",
    "New variables: Temperature (changes from 72 to 83)\n",
    "\n",
    "Explanation: the new variable temperature is added that is independent of the number of pigs variable. The units for temperature are not related to the units for the number of pigs.  The augmented passage does not add any information about existing variables (number of pigs) at all, fulfilling Rule 8. \n",
    "\n",
    "Now output the existing variables and augment the passage below following all rules. Also print the new variables in the augmented passage.\n",
    "Passage: {}\n",
    "Existing Variables:\n",
    "'''.format(prompt)\n",
    "\n",
    "\n",
    "    return default\n"
   ]
  },
  {
   "cell_type": "code",
   "execution_count": null,
   "metadata": {},
   "outputs": [],
   "source": [
    "def postprocess_simple(inp: str):\n",
    "    return inp.split('Augmented:')[1].split('New variables:')[0]"
   ]
  },
  {
   "cell_type": "markdown",
   "metadata": {},
   "source": [
    "### complex prompt"
   ]
  },
  {
   "cell_type": "code",
   "execution_count": 4,
   "metadata": {
    "gather": {
     "logged": 1687315445717
    },
    "jupyter": {
     "outputs_hidden": false,
     "source_hidden": false
    },
    "nteract": {
     "transient": {
      "deleting": false
     }
    }
   },
   "outputs": [],
   "source": [
    "def get_complex_prompt(prompt,prefix=None):\n",
    "\n",
    "    if(prefix is not None):\n",
    "        default = prefix\n",
    "    else:\n",
    "        default = '''Augment the passage as shown by adding one new variable. The new variable must change values, and the new variables must be in a different unit to the original passage. \n",
    "\n",
    "\n",
    "Passage:  My car gets 20 miles per gallon.\n",
    "Variables: Fuel efficiency\n",
    "Augmented: My car, which gets 20 miles for each gallon, when I drive at 120 miles per hour. I start going at 10 feet a minute. \n",
    "New Variables: Speed (changes from 120 to 10)\n",
    "\n",
    "\n",
    "Passage:  There are 64 pigs in the barn. Some more came in, now there are 86 pigs.\n",
    "Variables: Number of pigs (changes from 64 to 86)\n",
    "Augmented: In the barn, where the temperature is a cozy 72 degrees Fahrenheit, there are 64 pigs. Some more came in. The temperature goes up to 83 degrees fahrenheit for 86 pigs. \n",
    "New variables: Temperature (changes from 72 to 83)\n",
    "\n",
    "\n",
    "In example 1, the new variable speed is added. It is independent of the Fuel efficiency variable in the original passage. Speed cannot be derived from the original passage. In example 2, the new variable temperature is added that is independent of the number of pigs variable.\n",
    "\n",
    "The augmented passage should add numerical information regarding variables not measured or derived from variables in the passage. The new variables must not share the same physical unit as the original variable. \n",
    "\n",
    "\n",
    "Now output the variables and augment the passage below following this rule. Do not add any information about the variables in passage, which is not there already. the new variables must have clear before and after change values.\n",
    "\n",
    "\n",
    "Passage: {}\n",
    "Variables:'''.format(prompt)\n",
    "\n",
    "\n",
    "    return default\n"
   ]
  },
  {
   "cell_type": "code",
   "execution_count": 5,
   "metadata": {
    "gather": {
     "logged": 1687315446021
    },
    "jupyter": {
     "outputs_hidden": false,
     "source_hidden": false
    },
    "nteract": {
     "transient": {
      "deleting": false
     }
    }
   },
   "outputs": [],
   "source": [
    "\n",
    "def get_inference(prompt_text, returnPrompt=False):\n",
    "\n",
    "    response = openai.ChatCompletion.create(\n",
    "        engine=\"gpt-35-turbo\",\n",
    "        messages = [\n",
    "\n",
    "                        {\"role\": \"system\", \"content\": \"You are a mathematics and linguistics professor setting a test.\"},\n",
    "\n",
    "                        {\"role\": \"user\", \"content\": prompt_text}\n",
    "\n",
    "                    ],\n",
    "        temperature=0.7,\n",
    "        max_tokens=800,\n",
    "        top_p=0.95,\n",
    "        frequency_penalty=0,\n",
    "        presence_penalty=0,\n",
    "        stop=None)\n",
    "\n",
    "    ans = response[\"choices\"][0][\"message\"][\"content\"].split(\"\\n\")\n",
    "\n",
    "    if(returnPrompt):\n",
    "        return [prompt_text,ans]\n",
    "    else:\n",
    "        return [ans] "
   ]
  },
  {
   "cell_type": "code",
   "execution_count": 6,
   "metadata": {
    "ExecuteTime": {
     "end_time": "2023-06-21T19:10:41.976270Z",
     "start_time": "2023-06-21T19:10:41.795715Z"
    },
    "gather": {
     "logged": 1687315446535
    },
    "jupyter": {
     "outputs_hidden": false,
     "source_hidden": false
    },
    "nteract": {
     "transient": {
      "deleting": false
     }
    }
   },
   "outputs": [
    {
     "name": "stdout",
     "output_type": "stream",
     "text": [
      "<class 'pandas.core.frame.DataFrame'>\n",
      "Index: 2 entries, passage to qa_pairs\n",
      "Columns: 984 entries, passage_0 to passage_983\n",
      "dtypes: object(984)\n",
      "memory usage: 15.4+ KB\n"
     ]
    }
   ],
   "source": [
    "file = pd.read_json(ipfile)\n",
    "file.info()\n",
    "passage_ids = file.columns"
   ]
  },
  {
   "cell_type": "code",
   "execution_count": 9,
   "metadata": {
    "gather": {
     "logged": 1687315447104
    },
    "jupyter": {
     "outputs_hidden": false,
     "source_hidden": false
    },
    "nteract": {
     "transient": {
      "deleting": false
     }
    }
   },
   "outputs": [],
   "source": [
    "ip_list2 = passage_ids\n",
    "\n",
    "count = 0\n",
    "\n",
    "batch_size = 50  "
   ]
  },
  {
   "cell_type": "code",
   "execution_count": 25,
   "metadata": {
    "gather": {
     "logged": 1687372831357
    },
    "jupyter": {
     "outputs_hidden": false,
     "source_hidden": false
    },
    "nteract": {
     "transient": {
      "deleting": false
     }
    }
   },
   "outputs": [
    {
     "name": "stdout",
     "output_type": "stream",
     "text": [
      "creating shard  4\n"
     ]
    },
    {
     "name": "stderr",
     "output_type": "stream",
     "text": [
      " 26%|██▌       | 13/50 [00:37<01:47,  2.92s/it]"
     ]
    }
   ],
   "source": [
    "\n",
    "while len(ip_list2) > 0:\n",
    "    temp_list = ip_list2[:batch_size]\n",
    "\n",
    "    para=[]\n",
    "    question=[]\n",
    "    answer=[]\n",
    "    query_id=[]\n",
    "    is_adversarial=[]\n",
    "    passage_ids_L=[]\n",
    "\n",
    "    print('creating shard ',count)\n",
    " \n",
    "\n",
    "    for p in tqdm.tqdm(temp_list):\n",
    "        passage_ids_L.append(p)\n",
    "        passage_ids_L.append(p)\n",
    "\n",
    "        para.append(file[p]['passage'])\n",
    "        question.append(file[p]['qa_pairs'][0]['question'])\n",
    "        answer.append(file[p]['qa_pairs'][0]['answer'])\n",
    "        query_id.append(file[p]['qa_pairs'][0]['query_id'])\n",
    "        is_adversarial.append(False)\n",
    "\n",
    "        para.append(postprocess_simple(get_inference(get_simple_prompt(file[p]['passage']))))\n",
    "        question.append(file[p]['qa_pairs'][0]['question'])\n",
    "        answer.append(file[p]['qa_pairs'][0]['answer'])\n",
    "        query_id.append(file[p]['qa_pairs'][0]['query_id'])\n",
    "        is_adversarial.append(True)\n",
    "    \n",
    "    dff = pd.DataFrame(data={'passage_id':passage_ids_L,\n",
    "                        'passage':para,\n",
    "                        'question':question,\n",
    "                        'answer':answer,\n",
    "                        'query_id':query_id,\n",
    "                        'isAdversarial':is_adversarial})\n",
    "\n",
    "    dff.to_csv(os.path.join(opfolder,opfile.replace('.csv','SHARD_{}.csv'.format(count))),index=False)\n",
    "    \n",
    "    count+=1\n",
    "    print(\"shard number:\",count,\"Done\")\n",
    "    ip_list2 = ip_list2[batch_size:]"
   ]
  }
 ],
 "metadata": {
  "kernel_info": {
   "name": "python310-sdkv2"
  },
  "kernelspec": {
   "display_name": "Python [conda env:root] *",
   "language": "python",
   "name": "conda-root-py"
  },
  "language_info": {
   "codemirror_mode": {
    "name": "ipython",
    "version": 3
   },
   "file_extension": ".py",
   "mimetype": "text/x-python",
   "name": "python",
   "nbconvert_exporter": "python",
   "pygments_lexer": "ipython3",
   "version": "3.9.7"
  },
  "microsoft": {
   "host": {
    "AzureML": {
     "notebookHasBeenCompleted": true
    }
   },
   "ms_spell_check": {
    "ms_spell_check_language": "en"
   }
  },
  "nteract": {
   "version": "nteract-front-end@1.0.0"
  }
 },
 "nbformat": 4,
 "nbformat_minor": 2
}
